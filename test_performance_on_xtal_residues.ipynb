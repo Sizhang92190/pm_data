{
 "cells": [
  {
   "cell_type": "code",
   "execution_count": 1,
   "metadata": {},
   "outputs": [
    {
     "name": "stderr",
     "output_type": "stream",
     "text": [
      "2025-03-10 10:07:37.671761: I tensorflow/core/platform/cpu_feature_guard.cc:193] This TensorFlow binary is optimized with oneAPI Deep Neural Network Library (oneDNN) to use the following CPU instructions in performance-critical operations:  AVX2 FMA\n",
      "To enable them in other operations, rebuild TensorFlow with the appropriate compiler flags.\n",
      "2025-03-10 10:07:37.964952: E tensorflow/stream_executor/cuda/cuda_blas.cc:2981] Unable to register cuBLAS factory: Attempting to register factory for plugin cuBLAS when one has already been registered\n",
      "2025-03-10 10:07:38.591166: W tensorflow/stream_executor/platform/default/dso_loader.cc:64] Could not load dynamic library 'libnvinfer.so.7'; dlerror: libnvinfer.so.7: cannot open shared object file: No such file or directory; LD_LIBRARY_PATH: :/opt/seas/lib64\n",
      "2025-03-10 10:07:38.591276: W tensorflow/stream_executor/platform/default/dso_loader.cc:64] Could not load dynamic library 'libnvinfer_plugin.so.7'; dlerror: libnvinfer_plugin.so.7: cannot open shared object file: No such file or directory; LD_LIBRARY_PATH: :/opt/seas/lib64\n",
      "2025-03-10 10:07:38.591294: W tensorflow/compiler/tf2tensorrt/utils/py_utils.cc:38] TF-TRT Warning: Cannot dlopen some TensorRT libraries. If you would like to use Nvidia GPU with TensorRT, please make sure the missing libraries mentioned above are installed properly.\n",
      "2025-03-10 10:07:40.144055: E tensorflow/stream_executor/cuda/cuda_driver.cc:265] failed call to cuInit: CUDA_ERROR_NO_DEVICE: no CUDA-capable device is detected\n",
      "2025-03-10 10:07:40.144136: I tensorflow/stream_executor/cuda/cuda_diagnostics.cc:156] kernel driver does not appear to be running on this host (bowmore-login.internal): /proc/driver/nvidia/version does not exist\n",
      "2025-03-10 10:07:40.144895: I tensorflow/core/platform/cpu_feature_guard.cc:193] This TensorFlow binary is optimized with oneAPI Deep Neural Network Library (oneDNN) to use the following CPU instructions in performance-critical operations:  AVX2 FMA\n",
      "To enable them in other operations, rebuild TensorFlow with the appropriate compiler flags.\n"
     ]
    }
   ],
   "source": [
    "import sys\n",
    "sys.path.insert(0, '/mnt/pure/bowmanlab/sizhang/pkgs/gvp/src')\n",
    "\n",
    "from models import MQAModel\n",
    "from util import load_checkpoint\n",
    "import tensorflow as tf\n",
    "import mdtraj as md\n",
    "import numpy as np\n",
    "import os\n",
    "from glob import glob\n",
    "from tensorflow import keras as keras\n",
    "from tqdm import tqdm\n",
    "from validate_performance_on_xtals import process_strucs, process_paths, predict_on_xtals\n",
    "from optimal_threshold_protein_performance import determine_optimal_threshold, determine_recall_or_sensitivity"
   ]
  },
  {
   "cell_type": "code",
   "execution_count": 2,
   "metadata": {},
   "outputs": [],
   "source": [
    "git_data_dir = '/mnt/pure/bowmanlab/sizhang/pkgs/gvp/data/pm-dataset'"
   ]
  },
  {
   "cell_type": "code",
   "execution_count": 3,
   "metadata": {},
   "outputs": [
    {
     "name": "stdout",
     "output_type": "stream",
     "text": [
      "Balance in val set\n",
      "Total negative residues in val: 375\n",
      "Total positive residues in val: 436\n",
      "Balance in test set\n",
      "Total negative residues in test: 1283\n",
      "Total positive residues in test: 563\n"
     ]
    }
   ],
   "source": [
    "val_label_dictionary = np.load(f'{git_data_dir}/val_label_dictionary.npy',\n",
    "                            allow_pickle=True).item()\n",
    "\n",
    "# Load validation apo ids to select best epoch\n",
    "val_set_apo_ids_with_chainids = np.load(f'{git_data_dir}/'\n",
    "                                        'val_apo_ids_with_chainids.npy')\n",
    "\n",
    "# Load test apo ids for evaluation\n",
    "val_l_max = max([len(l) for l in val_label_dictionary.values()])\n",
    "\n",
    "val_label_mask = np.zeros([len(val_label_dictionary.keys()), val_l_max], dtype=bool)\n",
    "for i, l in enumerate(val_label_dictionary.values()):\n",
    "    val_label_mask[i] = np.pad(l != 2, [[0, val_l_max - len(l)]])\n",
    "\n",
    "val_true_labels = np.zeros([len(val_label_dictionary.keys()), val_l_max], dtype=int)\n",
    "for i, l in enumerate(val_label_dictionary.values()):\n",
    "    val_true_labels[i] = np.pad(l, [[0, val_l_max - len(l)]])\n",
    "\n",
    "print('Balance in val set')\n",
    "print(f'Total negative residues in val: {np.sum(val_true_labels[val_label_mask] == 0)}')\n",
    "print(f'Total positive residues in val: {np.sum(val_true_labels[val_label_mask] == 1)}')\n",
    "\n",
    "# Load test set input\n",
    "test_label_dictionary = np.load(f'/{git_data_dir}/test_label_dictionary.npy',\n",
    "                                allow_pickle=True).item()\n",
    "test_set_apo_ids_with_chainids = np.load(f'{git_data_dir}/'\n",
    "                                        'test_apo_ids_with_chainids.npy')\n",
    "\n",
    "# Load test apo ids for evaluation\n",
    "test_l_max = max([len(l) for l in test_label_dictionary.values()])\n",
    "\n",
    "test_label_mask = np.zeros([len(test_label_dictionary.keys()), test_l_max], dtype=bool)\n",
    "for i, l in enumerate(test_label_dictionary.values()):\n",
    "    test_label_mask[i] = np.pad(l != 2, [[0, test_l_max - len(l)]])\n",
    "\n",
    "test_true_labels = np.zeros([len(test_label_dictionary.keys()), test_l_max], dtype=int)\n",
    "for i, l in enumerate(test_label_dictionary.values()):\n",
    "    test_true_labels[i] = np.pad(l, [[0, test_l_max - len(l)]])\n",
    "\n",
    "print('Balance in test set')\n",
    "print(f'Total negative residues in test: {np.sum(test_true_labels[test_label_mask] == 0)}')\n",
    "print(f'Total positive residues in test: {np.sum(test_true_labels[test_label_mask] == 1)}')\n"
   ]
  },
  {
   "cell_type": "code",
   "execution_count": 4,
   "metadata": {},
   "outputs": [],
   "source": [
    "# Create model\n",
    "DROPOUT_RATE = 0.1\n",
    "NUM_LAYERS = 4\n",
    "HIDDEN_DIM = 100\n",
    "\n",
    "# get NN directories\n",
    "nn_dirs = [\n",
    "    '/mnt/pure/bowmanlab/ameller/gvp/task2/train-with-4-residue-batches-no-balancing-intermediates-in-training/net_8-50_1-32_16-100_dr_0.1_nl_4_hd_100_lr_2e-05_b4resis_b1proteins_20epoch_feat_method_gp-to-nearest-resi-procedure_rank_7_stride_1_window_40_pos_20_refine_feat_method_fpocket_drug_scores_max_window_40_cutoff_0.3_stride_5'\n",
    "]"
   ]
  },
  {
   "cell_type": "code",
   "execution_count": 5,
   "metadata": {},
   "outputs": [
    {
     "name": "stderr",
     "output_type": "stream",
     "text": [
      "/export/seas-home/sizhang/mambaforge/envs/pocketminer/lib/python3.10/site-packages/mdtraj/formats/pdb/pdbstructure.py:576: UserWarning: WARNING: two consecutive residues with same number (ATOM   2377  N   TYR A 184      58.638  67.513  16.505  1.00  0.00           N  , ATOM   2376  O   GLY A 184      59.058  66.303  14.675  1.00  0.00           O  )\n",
      "  warnings.warn(\n",
      "/export/seas-home/sizhang/mambaforge/envs/pocketminer/lib/python3.10/site-packages/mdtraj/formats/pdb/pdbstructure.py:576: UserWarning: WARNING: two consecutive residues with same number (ATOM   2446  N   LYS A 188      54.888  70.473  20.325  1.00  0.00           N  , ATOM   2445  O   GLY A 188      53.058  71.553  21.025  1.00  0.00           O  )\n",
      "  warnings.warn(\n",
      "/export/seas-home/sizhang/mambaforge/envs/pocketminer/lib/python3.10/site-packages/mdtraj/formats/pdb/pdbstructure.py:576: UserWarning: WARNING: two consecutive residues with same number (ATOM   2816  N   GLN A 221      60.488  72.053  23.425  1.00  0.00           N  , ATOM   2815  O   ALA A 221      58.578  73.033  22.705  1.00  0.00           O  )\n",
      "  warnings.warn(\n"
     ]
    },
    {
     "name": "stdout",
     "output_type": "stream",
     "text": [
      "[('6hb0A', 15, 15), ('2laoA', 15, 15), ('1urpA', 13, 13), ('6ypkA', 24, 24), ('3ugkA', 42, 42), ('5g1mA', 19, 19), ('5nzmA', 27, 27), ('4v38A', 23, 23), ('2w9tA', 40, 40), ('2hq8B', 25, 25), ('4r72A', 24, 24), ('5za4A', 24, 24), ('2ceyA', 18, 18), ('1kmoA', 22, 22), ('5niaA', 27, 27), ('2fjyA', 19, 19), ('3p53A', 16, 16), ('1kx9B', 32, 32), ('1tvqA', 35, 35), ('2zkuB', 31, 31), ('3nx1A', 11, 11), ('4i92A', 19, 19), ('3qxwB', 20, 20), ('5h9aA', 22, 22), ('2fd7A', 46, 46), ('4tqlA', 215, 215), ('2alpA', 178, 178), ('1ammA', 148, 148), ('4ape', 102, 102), ('5uoj', 106, 106), ('3gz0', 51, 51), ('1btp', 111, 111), ('2oss', 80, 80), ('5zn5', 134, 134), ('5x8ua', 112, 112)]\n"
     ]
    }
   ],
   "source": [
    "X_val, S_val, mask_val = process_paths(val_set_apo_ids_with_chainids, use_tensors=False)\n",
    "_, S_val_lm, _ = process_paths(val_set_apo_ids_with_chainids, use_tensors=False, use_lm=True)\n",
    "\n",
    "X_test, S_test, mask_test = process_paths(test_set_apo_ids_with_chainids, use_tensors=False)\n",
    "# print(np.sum(test_label_mask, axis=1))\n",
    "# print(np.sum(mask_test, axis=1))\n",
    "\n",
    "print([(p, s1, s2) for p, s1, s2 in\n",
    "        zip(test_set_apo_ids_with_chainids, np.sum(mask_test.astype(bool) & test_label_mask, axis=1), np.sum(test_label_mask, axis=1))])\n",
    "# print(np.sum(test_label_mask, axis=1))"
   ]
  },
  {
   "cell_type": "code",
   "execution_count": 6,
   "metadata": {},
   "outputs": [
    {
     "name": "stdout",
     "output_type": "stream",
     "text": [
      "20\n",
      "['/mnt/pure/bowmanlab/ameller/gvp/task2/train-with-4-residue-batches-no-balancing-intermediates-in-training/net_8-50_1-32_16-100_dr_0.1_nl_4_hd_100_lr_2e-05_b4resis_b1proteins_20epoch_feat_method_gp-to-nearest-resi-procedure_rank_7_stride_1_window_40_pos_20_refine_feat_method_fpocket_drug_scores_max_window_40_cutoff_0.3_stride_5/1646754348_000.index', '/mnt/pure/bowmanlab/ameller/gvp/task2/train-with-4-residue-batches-no-balancing-intermediates-in-training/net_8-50_1-32_16-100_dr_0.1_nl_4_hd_100_lr_2e-05_b4resis_b1proteins_20epoch_feat_method_gp-to-nearest-resi-procedure_rank_7_stride_1_window_40_pos_20_refine_feat_method_fpocket_drug_scores_max_window_40_cutoff_0.3_stride_5/1646754348_001.index', '/mnt/pure/bowmanlab/ameller/gvp/task2/train-with-4-residue-batches-no-balancing-intermediates-in-training/net_8-50_1-32_16-100_dr_0.1_nl_4_hd_100_lr_2e-05_b4resis_b1proteins_20epoch_feat_method_gp-to-nearest-resi-procedure_rank_7_stride_1_window_40_pos_20_refine_feat_method_fpocket_drug_scores_max_window_40_cutoff_0.3_stride_5/1646754348_002.index', '/mnt/pure/bowmanlab/ameller/gvp/task2/train-with-4-residue-batches-no-balancing-intermediates-in-training/net_8-50_1-32_16-100_dr_0.1_nl_4_hd_100_lr_2e-05_b4resis_b1proteins_20epoch_feat_method_gp-to-nearest-resi-procedure_rank_7_stride_1_window_40_pos_20_refine_feat_method_fpocket_drug_scores_max_window_40_cutoff_0.3_stride_5/1646754348_003.index', '/mnt/pure/bowmanlab/ameller/gvp/task2/train-with-4-residue-batches-no-balancing-intermediates-in-training/net_8-50_1-32_16-100_dr_0.1_nl_4_hd_100_lr_2e-05_b4resis_b1proteins_20epoch_feat_method_gp-to-nearest-resi-procedure_rank_7_stride_1_window_40_pos_20_refine_feat_method_fpocket_drug_scores_max_window_40_cutoff_0.3_stride_5/1646754348_004.index', '/mnt/pure/bowmanlab/ameller/gvp/task2/train-with-4-residue-batches-no-balancing-intermediates-in-training/net_8-50_1-32_16-100_dr_0.1_nl_4_hd_100_lr_2e-05_b4resis_b1proteins_20epoch_feat_method_gp-to-nearest-resi-procedure_rank_7_stride_1_window_40_pos_20_refine_feat_method_fpocket_drug_scores_max_window_40_cutoff_0.3_stride_5/1646754348_005.index', '/mnt/pure/bowmanlab/ameller/gvp/task2/train-with-4-residue-batches-no-balancing-intermediates-in-training/net_8-50_1-32_16-100_dr_0.1_nl_4_hd_100_lr_2e-05_b4resis_b1proteins_20epoch_feat_method_gp-to-nearest-resi-procedure_rank_7_stride_1_window_40_pos_20_refine_feat_method_fpocket_drug_scores_max_window_40_cutoff_0.3_stride_5/1646754348_006.index', '/mnt/pure/bowmanlab/ameller/gvp/task2/train-with-4-residue-batches-no-balancing-intermediates-in-training/net_8-50_1-32_16-100_dr_0.1_nl_4_hd_100_lr_2e-05_b4resis_b1proteins_20epoch_feat_method_gp-to-nearest-resi-procedure_rank_7_stride_1_window_40_pos_20_refine_feat_method_fpocket_drug_scores_max_window_40_cutoff_0.3_stride_5/1646754348_007.index', '/mnt/pure/bowmanlab/ameller/gvp/task2/train-with-4-residue-batches-no-balancing-intermediates-in-training/net_8-50_1-32_16-100_dr_0.1_nl_4_hd_100_lr_2e-05_b4resis_b1proteins_20epoch_feat_method_gp-to-nearest-resi-procedure_rank_7_stride_1_window_40_pos_20_refine_feat_method_fpocket_drug_scores_max_window_40_cutoff_0.3_stride_5/1646754348_008.index', '/mnt/pure/bowmanlab/ameller/gvp/task2/train-with-4-residue-batches-no-balancing-intermediates-in-training/net_8-50_1-32_16-100_dr_0.1_nl_4_hd_100_lr_2e-05_b4resis_b1proteins_20epoch_feat_method_gp-to-nearest-resi-procedure_rank_7_stride_1_window_40_pos_20_refine_feat_method_fpocket_drug_scores_max_window_40_cutoff_0.3_stride_5/1646754348_009.index', '/mnt/pure/bowmanlab/ameller/gvp/task2/train-with-4-residue-batches-no-balancing-intermediates-in-training/net_8-50_1-32_16-100_dr_0.1_nl_4_hd_100_lr_2e-05_b4resis_b1proteins_20epoch_feat_method_gp-to-nearest-resi-procedure_rank_7_stride_1_window_40_pos_20_refine_feat_method_fpocket_drug_scores_max_window_40_cutoff_0.3_stride_5/1646754348_010.index', '/mnt/pure/bowmanlab/ameller/gvp/task2/train-with-4-residue-batches-no-balancing-intermediates-in-training/net_8-50_1-32_16-100_dr_0.1_nl_4_hd_100_lr_2e-05_b4resis_b1proteins_20epoch_feat_method_gp-to-nearest-resi-procedure_rank_7_stride_1_window_40_pos_20_refine_feat_method_fpocket_drug_scores_max_window_40_cutoff_0.3_stride_5/1646754348_011.index', '/mnt/pure/bowmanlab/ameller/gvp/task2/train-with-4-residue-batches-no-balancing-intermediates-in-training/net_8-50_1-32_16-100_dr_0.1_nl_4_hd_100_lr_2e-05_b4resis_b1proteins_20epoch_feat_method_gp-to-nearest-resi-procedure_rank_7_stride_1_window_40_pos_20_refine_feat_method_fpocket_drug_scores_max_window_40_cutoff_0.3_stride_5/1646754348_012.index', '/mnt/pure/bowmanlab/ameller/gvp/task2/train-with-4-residue-batches-no-balancing-intermediates-in-training/net_8-50_1-32_16-100_dr_0.1_nl_4_hd_100_lr_2e-05_b4resis_b1proteins_20epoch_feat_method_gp-to-nearest-resi-procedure_rank_7_stride_1_window_40_pos_20_refine_feat_method_fpocket_drug_scores_max_window_40_cutoff_0.3_stride_5/1646754348_013.index', '/mnt/pure/bowmanlab/ameller/gvp/task2/train-with-4-residue-batches-no-balancing-intermediates-in-training/net_8-50_1-32_16-100_dr_0.1_nl_4_hd_100_lr_2e-05_b4resis_b1proteins_20epoch_feat_method_gp-to-nearest-resi-procedure_rank_7_stride_1_window_40_pos_20_refine_feat_method_fpocket_drug_scores_max_window_40_cutoff_0.3_stride_5/1646754348_014.index', '/mnt/pure/bowmanlab/ameller/gvp/task2/train-with-4-residue-batches-no-balancing-intermediates-in-training/net_8-50_1-32_16-100_dr_0.1_nl_4_hd_100_lr_2e-05_b4resis_b1proteins_20epoch_feat_method_gp-to-nearest-resi-procedure_rank_7_stride_1_window_40_pos_20_refine_feat_method_fpocket_drug_scores_max_window_40_cutoff_0.3_stride_5/1646754348_015.index', '/mnt/pure/bowmanlab/ameller/gvp/task2/train-with-4-residue-batches-no-balancing-intermediates-in-training/net_8-50_1-32_16-100_dr_0.1_nl_4_hd_100_lr_2e-05_b4resis_b1proteins_20epoch_feat_method_gp-to-nearest-resi-procedure_rank_7_stride_1_window_40_pos_20_refine_feat_method_fpocket_drug_scores_max_window_40_cutoff_0.3_stride_5/1646754348_016.index', '/mnt/pure/bowmanlab/ameller/gvp/task2/train-with-4-residue-batches-no-balancing-intermediates-in-training/net_8-50_1-32_16-100_dr_0.1_nl_4_hd_100_lr_2e-05_b4resis_b1proteins_20epoch_feat_method_gp-to-nearest-resi-procedure_rank_7_stride_1_window_40_pos_20_refine_feat_method_fpocket_drug_scores_max_window_40_cutoff_0.3_stride_5/1646754348_017.index', '/mnt/pure/bowmanlab/ameller/gvp/task2/train-with-4-residue-batches-no-balancing-intermediates-in-training/net_8-50_1-32_16-100_dr_0.1_nl_4_hd_100_lr_2e-05_b4resis_b1proteins_20epoch_feat_method_gp-to-nearest-resi-procedure_rank_7_stride_1_window_40_pos_20_refine_feat_method_fpocket_drug_scores_max_window_40_cutoff_0.3_stride_5/1646754348_018.index', '/mnt/pure/bowmanlab/ameller/gvp/task2/train-with-4-residue-batches-no-balancing-intermediates-in-training/net_8-50_1-32_16-100_dr_0.1_nl_4_hd_100_lr_2e-05_b4resis_b1proteins_20epoch_feat_method_gp-to-nearest-resi-procedure_rank_7_stride_1_window_40_pos_20_refine_feat_method_fpocket_drug_scores_max_window_40_cutoff_0.3_stride_5/1646754348_019.index']\n"
     ]
    },
    {
     "name": "stderr",
     "output_type": "stream",
     "text": [
      "  0%|          | 0/20 [00:00<?, ?it/s]"
     ]
    },
    {
     "name": "stdout",
     "output_type": "stream",
     "text": [
      "CHECKPOINT RESTORED FROM /mnt/pure/bowmanlab/ameller/gvp/task2/train-with-4-residue-batches-no-balancing-intermediates-in-training/net_8-50_1-32_16-100_dr_0.1_nl_4_hd_100_lr_2e-05_b4resis_b1proteins_20epoch_feat_method_gp-to-nearest-resi-procedure_rank_7_stride_1_window_40_pos_20_refine_feat_method_fpocket_drug_scores_max_window_40_cutoff_0.3_stride_5/1646754348_000\n",
      "Shapes: [26 394 4 3] [26 394] [26 394]\n"
     ]
    },
    {
     "name": "stderr",
     "output_type": "stream",
     "text": [
      "  5%|▌         | 1/20 [00:08<02:37,  8.27s/it]"
     ]
    },
    {
     "name": "stdout",
     "output_type": "stream",
     "text": [
      "CHECKPOINT RESTORED FROM /mnt/pure/bowmanlab/ameller/gvp/task2/train-with-4-residue-batches-no-balancing-intermediates-in-training/net_8-50_1-32_16-100_dr_0.1_nl_4_hd_100_lr_2e-05_b4resis_b1proteins_20epoch_feat_method_gp-to-nearest-resi-procedure_rank_7_stride_1_window_40_pos_20_refine_feat_method_fpocket_drug_scores_max_window_40_cutoff_0.3_stride_5/1646754348_001\n",
      "Shapes: [26 394 4 3] [26 394] [26 394]\n"
     ]
    },
    {
     "name": "stderr",
     "output_type": "stream",
     "text": [
      " 10%|█         | 2/20 [00:13<01:58,  6.57s/it]"
     ]
    },
    {
     "name": "stdout",
     "output_type": "stream",
     "text": [
      "CHECKPOINT RESTORED FROM /mnt/pure/bowmanlab/ameller/gvp/task2/train-with-4-residue-batches-no-balancing-intermediates-in-training/net_8-50_1-32_16-100_dr_0.1_nl_4_hd_100_lr_2e-05_b4resis_b1proteins_20epoch_feat_method_gp-to-nearest-resi-procedure_rank_7_stride_1_window_40_pos_20_refine_feat_method_fpocket_drug_scores_max_window_40_cutoff_0.3_stride_5/1646754348_002\n",
      "Shapes: [26 394 4 3] [26 394] [26 394]\n"
     ]
    },
    {
     "name": "stderr",
     "output_type": "stream",
     "text": [
      " 15%|█▌        | 3/20 [00:18<01:41,  5.96s/it]"
     ]
    },
    {
     "name": "stdout",
     "output_type": "stream",
     "text": [
      "CHECKPOINT RESTORED FROM /mnt/pure/bowmanlab/ameller/gvp/task2/train-with-4-residue-batches-no-balancing-intermediates-in-training/net_8-50_1-32_16-100_dr_0.1_nl_4_hd_100_lr_2e-05_b4resis_b1proteins_20epoch_feat_method_gp-to-nearest-resi-procedure_rank_7_stride_1_window_40_pos_20_refine_feat_method_fpocket_drug_scores_max_window_40_cutoff_0.3_stride_5/1646754348_003\n",
      "Shapes: [26 394 4 3] [26 394] [26 394]\n"
     ]
    },
    {
     "name": "stderr",
     "output_type": "stream",
     "text": [
      " 20%|██        | 4/20 [00:24<01:31,  5.72s/it]"
     ]
    },
    {
     "name": "stdout",
     "output_type": "stream",
     "text": [
      "CHECKPOINT RESTORED FROM /mnt/pure/bowmanlab/ameller/gvp/task2/train-with-4-residue-batches-no-balancing-intermediates-in-training/net_8-50_1-32_16-100_dr_0.1_nl_4_hd_100_lr_2e-05_b4resis_b1proteins_20epoch_feat_method_gp-to-nearest-resi-procedure_rank_7_stride_1_window_40_pos_20_refine_feat_method_fpocket_drug_scores_max_window_40_cutoff_0.3_stride_5/1646754348_004\n",
      "Shapes: [26 394 4 3] [26 394] [26 394]\n"
     ]
    },
    {
     "name": "stderr",
     "output_type": "stream",
     "text": [
      " 25%|██▌       | 5/20 [00:29<01:23,  5.55s/it]"
     ]
    },
    {
     "name": "stdout",
     "output_type": "stream",
     "text": [
      "CHECKPOINT RESTORED FROM /mnt/pure/bowmanlab/ameller/gvp/task2/train-with-4-residue-batches-no-balancing-intermediates-in-training/net_8-50_1-32_16-100_dr_0.1_nl_4_hd_100_lr_2e-05_b4resis_b1proteins_20epoch_feat_method_gp-to-nearest-resi-procedure_rank_7_stride_1_window_40_pos_20_refine_feat_method_fpocket_drug_scores_max_window_40_cutoff_0.3_stride_5/1646754348_005\n",
      "Shapes: [26 394 4 3] [26 394] [26 394]\n"
     ]
    },
    {
     "name": "stderr",
     "output_type": "stream",
     "text": [
      " 30%|███       | 6/20 [00:34<01:15,  5.42s/it]"
     ]
    },
    {
     "name": "stdout",
     "output_type": "stream",
     "text": [
      "CHECKPOINT RESTORED FROM /mnt/pure/bowmanlab/ameller/gvp/task2/train-with-4-residue-batches-no-balancing-intermediates-in-training/net_8-50_1-32_16-100_dr_0.1_nl_4_hd_100_lr_2e-05_b4resis_b1proteins_20epoch_feat_method_gp-to-nearest-resi-procedure_rank_7_stride_1_window_40_pos_20_refine_feat_method_fpocket_drug_scores_max_window_40_cutoff_0.3_stride_5/1646754348_006\n",
      "Shapes: [26 394 4 3] [26 394] [26 394]\n"
     ]
    },
    {
     "name": "stderr",
     "output_type": "stream",
     "text": [
      " 35%|███▌      | 7/20 [00:39<01:09,  5.33s/it]"
     ]
    },
    {
     "name": "stdout",
     "output_type": "stream",
     "text": [
      "CHECKPOINT RESTORED FROM /mnt/pure/bowmanlab/ameller/gvp/task2/train-with-4-residue-batches-no-balancing-intermediates-in-training/net_8-50_1-32_16-100_dr_0.1_nl_4_hd_100_lr_2e-05_b4resis_b1proteins_20epoch_feat_method_gp-to-nearest-resi-procedure_rank_7_stride_1_window_40_pos_20_refine_feat_method_fpocket_drug_scores_max_window_40_cutoff_0.3_stride_5/1646754348_007\n",
      "Shapes: [26 394 4 3] [26 394] [26 394]\n"
     ]
    },
    {
     "name": "stderr",
     "output_type": "stream",
     "text": [
      " 40%|████      | 8/20 [00:45<01:03,  5.31s/it]"
     ]
    },
    {
     "name": "stdout",
     "output_type": "stream",
     "text": [
      "CHECKPOINT RESTORED FROM /mnt/pure/bowmanlab/ameller/gvp/task2/train-with-4-residue-batches-no-balancing-intermediates-in-training/net_8-50_1-32_16-100_dr_0.1_nl_4_hd_100_lr_2e-05_b4resis_b1proteins_20epoch_feat_method_gp-to-nearest-resi-procedure_rank_7_stride_1_window_40_pos_20_refine_feat_method_fpocket_drug_scores_max_window_40_cutoff_0.3_stride_5/1646754348_008\n",
      "Shapes: [26 394 4 3] [26 394] [26 394]\n"
     ]
    },
    {
     "name": "stderr",
     "output_type": "stream",
     "text": [
      " 45%|████▌     | 9/20 [00:50<00:58,  5.30s/it]"
     ]
    },
    {
     "name": "stdout",
     "output_type": "stream",
     "text": [
      "CHECKPOINT RESTORED FROM /mnt/pure/bowmanlab/ameller/gvp/task2/train-with-4-residue-batches-no-balancing-intermediates-in-training/net_8-50_1-32_16-100_dr_0.1_nl_4_hd_100_lr_2e-05_b4resis_b1proteins_20epoch_feat_method_gp-to-nearest-resi-procedure_rank_7_stride_1_window_40_pos_20_refine_feat_method_fpocket_drug_scores_max_window_40_cutoff_0.3_stride_5/1646754348_009\n",
      "Shapes: [26 394 4 3] [26 394] [26 394]\n"
     ]
    },
    {
     "name": "stderr",
     "output_type": "stream",
     "text": [
      " 50%|█████     | 10/20 [00:55<00:53,  5.32s/it]"
     ]
    },
    {
     "name": "stdout",
     "output_type": "stream",
     "text": [
      "CHECKPOINT RESTORED FROM /mnt/pure/bowmanlab/ameller/gvp/task2/train-with-4-residue-batches-no-balancing-intermediates-in-training/net_8-50_1-32_16-100_dr_0.1_nl_4_hd_100_lr_2e-05_b4resis_b1proteins_20epoch_feat_method_gp-to-nearest-resi-procedure_rank_7_stride_1_window_40_pos_20_refine_feat_method_fpocket_drug_scores_max_window_40_cutoff_0.3_stride_5/1646754348_010\n",
      "Shapes: [26 394 4 3] [26 394] [26 394]\n"
     ]
    },
    {
     "name": "stderr",
     "output_type": "stream",
     "text": [
      " 55%|█████▌    | 11/20 [01:01<00:47,  5.32s/it]"
     ]
    },
    {
     "name": "stdout",
     "output_type": "stream",
     "text": [
      "CHECKPOINT RESTORED FROM /mnt/pure/bowmanlab/ameller/gvp/task2/train-with-4-residue-batches-no-balancing-intermediates-in-training/net_8-50_1-32_16-100_dr_0.1_nl_4_hd_100_lr_2e-05_b4resis_b1proteins_20epoch_feat_method_gp-to-nearest-resi-procedure_rank_7_stride_1_window_40_pos_20_refine_feat_method_fpocket_drug_scores_max_window_40_cutoff_0.3_stride_5/1646754348_011\n",
      "Shapes: [26 394 4 3] [26 394] [26 394]\n"
     ]
    },
    {
     "name": "stderr",
     "output_type": "stream",
     "text": [
      " 60%|██████    | 12/20 [01:06<00:42,  5.34s/it]"
     ]
    },
    {
     "name": "stdout",
     "output_type": "stream",
     "text": [
      "CHECKPOINT RESTORED FROM /mnt/pure/bowmanlab/ameller/gvp/task2/train-with-4-residue-batches-no-balancing-intermediates-in-training/net_8-50_1-32_16-100_dr_0.1_nl_4_hd_100_lr_2e-05_b4resis_b1proteins_20epoch_feat_method_gp-to-nearest-resi-procedure_rank_7_stride_1_window_40_pos_20_refine_feat_method_fpocket_drug_scores_max_window_40_cutoff_0.3_stride_5/1646754348_012\n",
      "Shapes: [26 394 4 3] [26 394] [26 394]\n"
     ]
    },
    {
     "name": "stderr",
     "output_type": "stream",
     "text": [
      " 65%|██████▌   | 13/20 [01:11<00:37,  5.31s/it]"
     ]
    },
    {
     "name": "stdout",
     "output_type": "stream",
     "text": [
      "CHECKPOINT RESTORED FROM /mnt/pure/bowmanlab/ameller/gvp/task2/train-with-4-residue-batches-no-balancing-intermediates-in-training/net_8-50_1-32_16-100_dr_0.1_nl_4_hd_100_lr_2e-05_b4resis_b1proteins_20epoch_feat_method_gp-to-nearest-resi-procedure_rank_7_stride_1_window_40_pos_20_refine_feat_method_fpocket_drug_scores_max_window_40_cutoff_0.3_stride_5/1646754348_013\n",
      "Shapes: [26 394 4 3] [26 394] [26 394]\n"
     ]
    },
    {
     "name": "stderr",
     "output_type": "stream",
     "text": [
      " 70%|███████   | 14/20 [01:17<00:32,  5.36s/it]"
     ]
    },
    {
     "name": "stdout",
     "output_type": "stream",
     "text": [
      "CHECKPOINT RESTORED FROM /mnt/pure/bowmanlab/ameller/gvp/task2/train-with-4-residue-batches-no-balancing-intermediates-in-training/net_8-50_1-32_16-100_dr_0.1_nl_4_hd_100_lr_2e-05_b4resis_b1proteins_20epoch_feat_method_gp-to-nearest-resi-procedure_rank_7_stride_1_window_40_pos_20_refine_feat_method_fpocket_drug_scores_max_window_40_cutoff_0.3_stride_5/1646754348_014\n",
      "Shapes: [26 394 4 3] [26 394] [26 394]\n"
     ]
    },
    {
     "name": "stderr",
     "output_type": "stream",
     "text": [
      " 75%|███████▌  | 15/20 [01:22<00:26,  5.37s/it]"
     ]
    },
    {
     "name": "stdout",
     "output_type": "stream",
     "text": [
      "CHECKPOINT RESTORED FROM /mnt/pure/bowmanlab/ameller/gvp/task2/train-with-4-residue-batches-no-balancing-intermediates-in-training/net_8-50_1-32_16-100_dr_0.1_nl_4_hd_100_lr_2e-05_b4resis_b1proteins_20epoch_feat_method_gp-to-nearest-resi-procedure_rank_7_stride_1_window_40_pos_20_refine_feat_method_fpocket_drug_scores_max_window_40_cutoff_0.3_stride_5/1646754348_015\n",
      "Shapes: [26 394 4 3] [26 394] [26 394]\n"
     ]
    },
    {
     "name": "stderr",
     "output_type": "stream",
     "text": [
      " 80%|████████  | 16/20 [01:27<00:21,  5.31s/it]"
     ]
    },
    {
     "name": "stdout",
     "output_type": "stream",
     "text": [
      "CHECKPOINT RESTORED FROM /mnt/pure/bowmanlab/ameller/gvp/task2/train-with-4-residue-batches-no-balancing-intermediates-in-training/net_8-50_1-32_16-100_dr_0.1_nl_4_hd_100_lr_2e-05_b4resis_b1proteins_20epoch_feat_method_gp-to-nearest-resi-procedure_rank_7_stride_1_window_40_pos_20_refine_feat_method_fpocket_drug_scores_max_window_40_cutoff_0.3_stride_5/1646754348_016\n",
      "Shapes: [26 394 4 3] [26 394] [26 394]\n"
     ]
    },
    {
     "name": "stderr",
     "output_type": "stream",
     "text": [
      " 85%|████████▌ | 17/20 [01:32<00:15,  5.13s/it]"
     ]
    },
    {
     "name": "stdout",
     "output_type": "stream",
     "text": [
      "CHECKPOINT RESTORED FROM /mnt/pure/bowmanlab/ameller/gvp/task2/train-with-4-residue-batches-no-balancing-intermediates-in-training/net_8-50_1-32_16-100_dr_0.1_nl_4_hd_100_lr_2e-05_b4resis_b1proteins_20epoch_feat_method_gp-to-nearest-resi-procedure_rank_7_stride_1_window_40_pos_20_refine_feat_method_fpocket_drug_scores_max_window_40_cutoff_0.3_stride_5/1646754348_017\n",
      "Shapes: [26 394 4 3] [26 394] [26 394]\n"
     ]
    },
    {
     "name": "stderr",
     "output_type": "stream",
     "text": [
      " 90%|█████████ | 18/20 [01:37<00:09,  4.99s/it]"
     ]
    },
    {
     "name": "stdout",
     "output_type": "stream",
     "text": [
      "CHECKPOINT RESTORED FROM /mnt/pure/bowmanlab/ameller/gvp/task2/train-with-4-residue-batches-no-balancing-intermediates-in-training/net_8-50_1-32_16-100_dr_0.1_nl_4_hd_100_lr_2e-05_b4resis_b1proteins_20epoch_feat_method_gp-to-nearest-resi-procedure_rank_7_stride_1_window_40_pos_20_refine_feat_method_fpocket_drug_scores_max_window_40_cutoff_0.3_stride_5/1646754348_018\n",
      "Shapes: [26 394 4 3] [26 394] [26 394]\n"
     ]
    },
    {
     "name": "stderr",
     "output_type": "stream",
     "text": [
      " 95%|█████████▌| 19/20 [01:41<00:04,  4.89s/it]"
     ]
    },
    {
     "name": "stdout",
     "output_type": "stream",
     "text": [
      "CHECKPOINT RESTORED FROM /mnt/pure/bowmanlab/ameller/gvp/task2/train-with-4-residue-batches-no-balancing-intermediates-in-training/net_8-50_1-32_16-100_dr_0.1_nl_4_hd_100_lr_2e-05_b4resis_b1proteins_20epoch_feat_method_gp-to-nearest-resi-procedure_rank_7_stride_1_window_40_pos_20_refine_feat_method_fpocket_drug_scores_max_window_40_cutoff_0.3_stride_5/1646754348_019\n",
      "Shapes: [26 394 4 3] [26 394] [26 394]\n"
     ]
    },
    {
     "name": "stderr",
     "output_type": "stream",
     "text": [
      "100%|██████████| 20/20 [01:46<00:00,  5.32s/it]"
     ]
    },
    {
     "name": "stdout",
     "output_type": "stream",
     "text": [
      "Validation ROC-AUCs: [0.850841, 0.89637005, 0.8425535, 0.8395382, 0.82503974, 0.8723028, 0.83928746, 0.81579506, 0.8135963, 0.8434465, 0.8273792, 0.82836396, 0.8074771, 0.852471, 0.80400306, 0.80379206, 0.84629965, 0.83099085, 0.8170795, 0.81923854]\n",
      "best epoch is 1\n",
      "using network /mnt/pure/bowmanlab/ameller/gvp/task2/train-with-4-residue-batches-no-balancing-intermediates-in-training/net_8-50_1-32_16-100_dr_0.1_nl_4_hd_100_lr_2e-05_b4resis_b1proteins_20epoch_feat_method_gp-to-nearest-resi-procedure_rank_7_stride_1_window_40_pos_20_refine_feat_method_fpocket_drug_scores_max_window_40_cutoff_0.3_stride_5/1646754348_001\n",
      "CHECKPOINT RESTORED FROM /mnt/pure/bowmanlab/ameller/gvp/task2/train-with-4-residue-batches-no-balancing-intermediates-in-training/net_8-50_1-32_16-100_dr_0.1_nl_4_hd_100_lr_2e-05_b4resis_b1proteins_20epoch_feat_method_gp-to-nearest-resi-procedure_rank_7_stride_1_window_40_pos_20_refine_feat_method_fpocket_drug_scores_max_window_40_cutoff_0.3_stride_5/1646754348_001\n",
      "Shapes: [35 661 4 3] [35 661] [35 661]\n"
     ]
    },
    {
     "name": "stderr",
     "output_type": "stream",
     "text": [
      "\n"
     ]
    },
    {
     "name": "stdout",
     "output_type": "stream",
     "text": [
      "Test AUC: 0.8667573928833008\n",
      "Test PR-AUC: 0.8110293745994568\n"
     ]
    }
   ],
   "source": [
    "for nn_dir in nn_dirs:\n",
    "        # if sidechain is in name, need to use tensors\n",
    "        if 'sidechain' in nn_dir:\n",
    "            continue\n",
    "\n",
    "        # determine number of compeleted epochs\n",
    "        val_files = glob(f\"{nn_dir}/val_pr_auc_*.npy\")\n",
    "        print(len(val_files))\n",
    "\n",
    "        if len(val_files) == 0:\n",
    "            continue\n",
    "\n",
    "        # Determine network name\n",
    "        index_filenames = glob(f\"{nn_dir}/*.index\")\n",
    "        print(index_filenames)\n",
    "        nn_id = os.path.basename(index_filenames[0]).split('_')[0]\n",
    "\n",
    "        if \"lm\" in nn_dir:\n",
    "            if 'squeeze' in nn_dir:\n",
    "                model = MQAModel(node_features=(8, 50), edge_features=(1, 32),\n",
    "                                 hidden_dim=(16, HIDDEN_DIM),\n",
    "                                 num_layers=NUM_LAYERS, dropout=DROPOUT_RATE,\n",
    "                                 use_lm=True, squeeze_lm=True)\n",
    "            else:\n",
    "                model = MQAModel(node_features=(8, 50), edge_features=(1, 32),\n",
    "                                 hidden_dim=(16, HIDDEN_DIM),\n",
    "                                 num_layers=NUM_LAYERS, dropout=DROPOUT_RATE,\n",
    "                                 use_lm=True, squeeze_lm=False)\n",
    "        elif \"pretrain\" in nn_dir:\n",
    "            model = MQAModel(node_features=(8, 100), edge_features=(1,32),\n",
    "                             hidden_dim=(16,100), dropout=1e-3)\n",
    "        else:\n",
    "            model = MQAModel(node_features=(8, 50), edge_features=(1, 32),\n",
    "                             hidden_dim=(16, HIDDEN_DIM),\n",
    "                             num_layers=NUM_LAYERS, dropout=DROPOUT_RATE)\n",
    "\n",
    "        # Determine which network to use (i.e. epoch with best AUC)\n",
    "        pr_auc = []\n",
    "        auc = []\n",
    "        auc_metric = keras.metrics.AUC(name='auc')\n",
    "        pr_auc_metric = keras.metrics.AUC(curve='PR', name='pr_auc')\n",
    "\n",
    "        val_optimal_thresholds = []\n",
    "\n",
    "        for epoch in tqdm(range(len(val_files))):\n",
    "        # for epoch in tqdm(range(3)):\n",
    "            nn_path = f\"{nn_dir}/{nn_id}_{str(epoch).zfill(3)}\"\n",
    "            if 'lm' in nn_dir:\n",
    "                predictions = predict_on_xtals(model, nn_path, X_val, S_val_lm, mask_val)\n",
    "            else:\n",
    "                predictions = predict_on_xtals(model, nn_path, X_val, S_val, mask_val)\n",
    "\n",
    "            y_pred = predictions[mask_val.astype(bool) & val_label_mask]\n",
    "            y_true = val_true_labels[val_label_mask]\n",
    "\n",
    "            auc_metric.update_state(y_true, y_pred)\n",
    "            pr_auc_metric.update_state(y_true, y_pred)\n",
    "\n",
    "            pr_auc.append(pr_auc_metric.result().numpy())\n",
    "            auc.append(auc_metric.result().numpy())\n",
    "\n",
    "            # determine optimal threshold for validation set\n",
    "            val_optimal_thresholds.append(determine_optimal_threshold(y_pred, y_true))\n",
    "\n",
    "            # reset AUC and PR-AUC\n",
    "            pr_auc_metric.reset_state()\n",
    "            auc_metric.reset_state()\n",
    "\n",
    "        # print(val_optimal_thresholds)\n",
    "        print(f'Validation ROC-AUCs: {auc}')\n",
    "        best_epoch = np.argmax(auc)\n",
    "        print(f'best epoch is {best_epoch}')\n",
    "        nn_path = f\"{nn_dir}/{nn_id}_{str(best_epoch).zfill(3)}\"\n",
    "        print(f'using network {nn_path}')\n",
    "\n",
    "        # Make predictions on test set\n",
    "        if 'lm' in nn_dir:\n",
    "            predictions = predict_on_xtals(model, nn_path, X_test, S_test_lm, mask_test)\n",
    "        else:\n",
    "            predictions = predict_on_xtals(model, nn_path, X_test, S_test, mask_test)\n",
    "\n",
    "        test_y_pred = predictions[mask_test.astype(bool) & test_label_mask]\n",
    "        test_y_true = test_true_labels[test_label_mask]\n",
    "\n",
    "        # np.save(f'{nn_dir}/test_y_pred.npy', test_y_pred)\n",
    "        # np.save(f'{nn_dir}/test_y_true.npy', test_y_true)\n",
    "\n",
    "        # lengths = np.sum(mask_test.astype(bool), axis=1)\n",
    "        # print(lengths)\n",
    "        # parsed_y_pred = [np.array(y[:l]) for y, l in zip(predictions, lengths)]\n",
    "        # np.save(f'{nn_dir}/test_y_pred_parsed.npy', parsed_y_pred)\n",
    "\n",
    "        auc_metric.update_state(test_y_true, test_y_pred)\n",
    "        pr_auc_metric.update_state(test_y_true, test_y_pred)\n",
    "\n",
    "        print(f'Test AUC: {auc_metric.result().numpy()}')\n",
    "        print(f'Test PR-AUC: {pr_auc_metric.result().numpy()}')\n",
    "\n",
    "        # np.save(f'{nn_dir}/test_auc.npy', auc_metric.result().numpy())\n",
    "        # np.save(f'{nn_dir}/test_pr_auc.npy', pr_auc_metric.result().numpy())\n",
    "\n",
    "        # # Determine protein-level performance\n",
    "        # # optimal_threshold = determine_optimal_threshold(test_y_pred, test_y_true)\n",
    "        # optimal_threshold = val_optimal_thresholds[best_epoch]\n",
    "        # print(optimal_threshold)\n",
    "\n",
    "        # # parse only those predictions for cryptic residues and negative residues\n",
    "        # parsed_y_pred = [np.array(y)[m] for y, m in zip(predictions, test_label_mask)]\n",
    "        # parsed_y_true = [y[m] for y, m in zip(test_true_labels, test_label_mask)]\n",
    "        # print(parsed_y_pred[0])\n",
    "        # print(parsed_y_true[0])\n",
    "\n",
    "        # protein_performance = determine_recall_or_sensitivity(parsed_y_pred, parsed_y_true, optimal_threshold)\n",
    "\n",
    "        # np.save(os.path.join(nn_dir, 'test_protein_performance.npy'), protein_performance)\n",
    "\n",
    "        # print([(p, round(v, 3)) for p, v in zip(test_label_dictionary.keys(), protein_performance)])"
   ]
  },
  {
   "cell_type": "code",
   "execution_count": null,
   "metadata": {},
   "outputs": [],
   "source": []
  }
 ],
 "metadata": {
  "kernelspec": {
   "display_name": "pocketminer",
   "language": "python",
   "name": "python3"
  },
  "language_info": {
   "codemirror_mode": {
    "name": "ipython",
    "version": 3
   },
   "file_extension": ".py",
   "mimetype": "text/x-python",
   "name": "python",
   "nbconvert_exporter": "python",
   "pygments_lexer": "ipython3",
   "version": "3.10.14"
  }
 },
 "nbformat": 4,
 "nbformat_minor": 2
}
